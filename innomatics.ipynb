{
 "cells": [
  {
   "cell_type": "code",
   "execution_count": 46,
   "id": "b810a1db",
   "metadata": {},
   "outputs": [],
   "source": [
    "import pandas as pd\n",
    "import numpy as np\n",
    "import matplotlib.pyplot as plt\n",
    "import seaborn as sns\n",
    "import scipy\n",
    "from scipy import stats\n",
    "sns.set()\n",
    "import warnings\n",
    "warnings.filterwarnings('ignore')\n",
    "from sklearn.metrics import accuracy_score,confusion_matrix\n",
    "import statistics\n",
    "from sklearn.model_selection import train_test_split\n",
    "from sklearn.linear_model import LinearRegression"
   ]
  },
  {
   "cell_type": "code",
   "execution_count": 11,
   "id": "9d48f439",
   "metadata": {},
   "outputs": [],
   "source": [
    "df=pd.read_csv(\"data_2_var.csv\")"
   ]
  },
  {
   "cell_type": "code",
   "execution_count": 16,
   "id": "d2424610",
   "metadata": {},
   "outputs": [],
   "source": [
    "df.columns =[\"input\",\"target\"]"
   ]
  },
  {
   "cell_type": "code",
   "execution_count": 17,
   "id": "1ea8f62c",
   "metadata": {},
   "outputs": [
    {
     "data": {
      "text/html": [
       "<div>\n",
       "<style scoped>\n",
       "    .dataframe tbody tr th:only-of-type {\n",
       "        vertical-align: middle;\n",
       "    }\n",
       "\n",
       "    .dataframe tbody tr th {\n",
       "        vertical-align: top;\n",
       "    }\n",
       "\n",
       "    .dataframe thead th {\n",
       "        text-align: right;\n",
       "    }\n",
       "</style>\n",
       "<table border=\"1\" class=\"dataframe\">\n",
       "  <thead>\n",
       "    <tr style=\"text-align: right;\">\n",
       "      <th></th>\n",
       "      <th>input</th>\n",
       "      <th>target</th>\n",
       "    </tr>\n",
       "  </thead>\n",
       "  <tbody>\n",
       "    <tr>\n",
       "      <th>0</th>\n",
       "      <td>-121.531419</td>\n",
       "      <td>-129.938929</td>\n",
       "    </tr>\n",
       "    <tr>\n",
       "      <th>1</th>\n",
       "      <td>-134.917019</td>\n",
       "      <td>-130.141832</td>\n",
       "    </tr>\n",
       "    <tr>\n",
       "      <th>2</th>\n",
       "      <td>-120.605951</td>\n",
       "      <td>-125.760932</td>\n",
       "    </tr>\n",
       "    <tr>\n",
       "      <th>3</th>\n",
       "      <td>-129.894781</td>\n",
       "      <td>-112.785214</td>\n",
       "    </tr>\n",
       "    <tr>\n",
       "      <th>4</th>\n",
       "      <td>-134.366669</td>\n",
       "      <td>-116.000000</td>\n",
       "    </tr>\n",
       "  </tbody>\n",
       "</table>\n",
       "</div>"
      ],
      "text/plain": [
       "        input      target\n",
       "0 -121.531419 -129.938929\n",
       "1 -134.917019 -130.141832\n",
       "2 -120.605951 -125.760932\n",
       "3 -129.894781 -112.785214\n",
       "4 -134.366669 -116.000000"
      ]
     },
     "execution_count": 17,
     "metadata": {},
     "output_type": "execute_result"
    }
   ],
   "source": [
    "df.head()"
   ]
  },
  {
   "cell_type": "code",
   "execution_count": 18,
   "id": "2cd6fa7c",
   "metadata": {},
   "outputs": [
    {
     "data": {
      "text/html": [
       "<div>\n",
       "<style scoped>\n",
       "    .dataframe tbody tr th:only-of-type {\n",
       "        vertical-align: middle;\n",
       "    }\n",
       "\n",
       "    .dataframe tbody tr th {\n",
       "        vertical-align: top;\n",
       "    }\n",
       "\n",
       "    .dataframe thead th {\n",
       "        text-align: right;\n",
       "    }\n",
       "</style>\n",
       "<table border=\"1\" class=\"dataframe\">\n",
       "  <thead>\n",
       "    <tr style=\"text-align: right;\">\n",
       "      <th></th>\n",
       "      <th>input</th>\n",
       "      <th>target</th>\n",
       "    </tr>\n",
       "  </thead>\n",
       "  <tbody>\n",
       "    <tr>\n",
       "      <th>1105</th>\n",
       "      <td>-115.366669</td>\n",
       "      <td>121.000000</td>\n",
       "    </tr>\n",
       "    <tr>\n",
       "      <th>1106</th>\n",
       "      <td>-119.954237</td>\n",
       "      <td>123.609122</td>\n",
       "    </tr>\n",
       "    <tr>\n",
       "      <th>1107</th>\n",
       "      <td>-109.942155</td>\n",
       "      <td>127.197394</td>\n",
       "    </tr>\n",
       "    <tr>\n",
       "      <th>1108</th>\n",
       "      <td>-111.515368</td>\n",
       "      <td>128.170885</td>\n",
       "    </tr>\n",
       "    <tr>\n",
       "      <th>1109</th>\n",
       "      <td>-110.344221</td>\n",
       "      <td>123.087950</td>\n",
       "    </tr>\n",
       "  </tbody>\n",
       "</table>\n",
       "</div>"
      ],
      "text/plain": [
       "           input      target\n",
       "1105 -115.366669  121.000000\n",
       "1106 -119.954237  123.609122\n",
       "1107 -109.942155  127.197394\n",
       "1108 -111.515368  128.170885\n",
       "1109 -110.344221  123.087950"
      ]
     },
     "execution_count": 18,
     "metadata": {},
     "output_type": "execute_result"
    }
   ],
   "source": [
    "df.tail()"
   ]
  },
  {
   "cell_type": "code",
   "execution_count": 19,
   "id": "57a38e13",
   "metadata": {},
   "outputs": [
    {
     "data": {
      "text/plain": [
       "(1110, 2)"
      ]
     },
     "execution_count": 19,
     "metadata": {},
     "output_type": "execute_result"
    }
   ],
   "source": [
    "df.shape"
   ]
  },
  {
   "cell_type": "code",
   "execution_count": 78,
   "id": "3f2ee215",
   "metadata": {},
   "outputs": [
    {
     "data": {
      "text/plain": [
       "2"
      ]
     },
     "execution_count": 78,
     "metadata": {},
     "output_type": "execute_result"
    }
   ],
   "source": [
    "df.ndim"
   ]
  },
  {
   "cell_type": "code",
   "execution_count": 20,
   "id": "522677c1",
   "metadata": {},
   "outputs": [
    {
     "data": {
      "text/html": [
       "<div>\n",
       "<style scoped>\n",
       "    .dataframe tbody tr th:only-of-type {\n",
       "        vertical-align: middle;\n",
       "    }\n",
       "\n",
       "    .dataframe tbody tr th {\n",
       "        vertical-align: top;\n",
       "    }\n",
       "\n",
       "    .dataframe thead th {\n",
       "        text-align: right;\n",
       "    }\n",
       "</style>\n",
       "<table border=\"1\" class=\"dataframe\">\n",
       "  <thead>\n",
       "    <tr style=\"text-align: right;\">\n",
       "      <th></th>\n",
       "      <th>input</th>\n",
       "      <th>target</th>\n",
       "    </tr>\n",
       "  </thead>\n",
       "  <tbody>\n",
       "    <tr>\n",
       "      <th>count</th>\n",
       "      <td>1110.000000</td>\n",
       "      <td>1110.000000</td>\n",
       "    </tr>\n",
       "    <tr>\n",
       "      <th>mean</th>\n",
       "      <td>6.899714</td>\n",
       "      <td>-26.093318</td>\n",
       "    </tr>\n",
       "    <tr>\n",
       "      <th>std</th>\n",
       "      <td>79.324069</td>\n",
       "      <td>69.755980</td>\n",
       "    </tr>\n",
       "    <tr>\n",
       "      <th>min</th>\n",
       "      <td>-134.962839</td>\n",
       "      <td>-132.422167</td>\n",
       "    </tr>\n",
       "    <tr>\n",
       "      <th>25%</th>\n",
       "      <td>-53.366669</td>\n",
       "      <td>-76.994298</td>\n",
       "    </tr>\n",
       "    <tr>\n",
       "      <th>50%</th>\n",
       "      <td>15.739103</td>\n",
       "      <td>-46.036319</td>\n",
       "    </tr>\n",
       "    <tr>\n",
       "      <th>75%</th>\n",
       "      <td>76.193907</td>\n",
       "      <td>7.598960</td>\n",
       "    </tr>\n",
       "    <tr>\n",
       "      <th>max</th>\n",
       "      <td>134.605775</td>\n",
       "      <td>134.425495</td>\n",
       "    </tr>\n",
       "  </tbody>\n",
       "</table>\n",
       "</div>"
      ],
      "text/plain": [
       "             input       target\n",
       "count  1110.000000  1110.000000\n",
       "mean      6.899714   -26.093318\n",
       "std      79.324069    69.755980\n",
       "min    -134.962839  -132.422167\n",
       "25%     -53.366669   -76.994298\n",
       "50%      15.739103   -46.036319\n",
       "75%      76.193907     7.598960\n",
       "max     134.605775   134.425495"
      ]
     },
     "execution_count": 20,
     "metadata": {},
     "output_type": "execute_result"
    }
   ],
   "source": [
    "df.describe()"
   ]
  },
  {
   "cell_type": "code",
   "execution_count": 39,
   "id": "3903f7a0",
   "metadata": {},
   "outputs": [
    {
     "data": {
      "text/plain": [
       "<bound method Series.unique of 0      -129.938929\n",
       "1      -130.141832\n",
       "2      -125.760932\n",
       "3      -112.785214\n",
       "4      -116.000000\n",
       "           ...    \n",
       "1105    121.000000\n",
       "1106    123.609122\n",
       "1107    127.197394\n",
       "1108    128.170885\n",
       "1109    123.087950\n",
       "Name: target, Length: 1110, dtype: float64>"
      ]
     },
     "execution_count": 39,
     "metadata": {},
     "output_type": "execute_result"
    }
   ],
   "source": [
    "df[\"target\"].unique"
   ]
  },
  {
   "cell_type": "code",
   "execution_count": 40,
   "id": "66e3e5fa",
   "metadata": {},
   "outputs": [
    {
     "data": {
      "text/plain": [
       "<bound method Series.unique of 0      -121.531419\n",
       "1      -134.917019\n",
       "2      -120.605951\n",
       "3      -129.894781\n",
       "4      -134.366669\n",
       "           ...    \n",
       "1105   -115.366669\n",
       "1106   -119.954237\n",
       "1107   -109.942155\n",
       "1108   -111.515368\n",
       "1109   -110.344221\n",
       "Name: input, Length: 1110, dtype: float64>"
      ]
     },
     "execution_count": 40,
     "metadata": {},
     "output_type": "execute_result"
    }
   ],
   "source": [
    "df[\"input\"].unique"
   ]
  },
  {
   "cell_type": "code",
   "execution_count": 21,
   "id": "a95d534f",
   "metadata": {},
   "outputs": [
    {
     "data": {
      "text/plain": [
       "<bound method DataFrame.info of            input      target\n",
       "0    -121.531419 -129.938929\n",
       "1    -134.917019 -130.141832\n",
       "2    -120.605951 -125.760932\n",
       "3    -129.894781 -112.785214\n",
       "4    -134.366669 -116.000000\n",
       "...          ...         ...\n",
       "1105 -115.366669  121.000000\n",
       "1106 -119.954237  123.609122\n",
       "1107 -109.942155  127.197394\n",
       "1108 -111.515368  128.170885\n",
       "1109 -110.344221  123.087950\n",
       "\n",
       "[1110 rows x 2 columns]>"
      ]
     },
     "execution_count": 21,
     "metadata": {},
     "output_type": "execute_result"
    }
   ],
   "source": [
    "df.info"
   ]
  },
  {
   "cell_type": "code",
   "execution_count": 22,
   "id": "44eb9418",
   "metadata": {},
   "outputs": [
    {
     "data": {
      "text/plain": [
       "-125.366669    10\n",
       " 112.633331     8\n",
       " 80.633331      5\n",
       "-124.366669     4\n",
       "-119.366669     4\n",
       "               ..\n",
       " 35.282362      1\n",
       " 41.990995      1\n",
       " 62.315768      1\n",
       " 58.386909      1\n",
       "-110.344221     1\n",
       "Name: input, Length: 990, dtype: int64"
      ]
     },
     "execution_count": 22,
     "metadata": {},
     "output_type": "execute_result"
    }
   ],
   "source": [
    "df[\"input\"].value_counts()"
   ]
  },
  {
   "cell_type": "code",
   "execution_count": 23,
   "id": "bd0a6706",
   "metadata": {},
   "outputs": [
    {
     "data": {
      "text/plain": [
       "-95.000000     19\n",
       "-32.000000     10\n",
       " 131.000000     9\n",
       "-33.000000      8\n",
       "-78.000000      6\n",
       "               ..\n",
       "-20.326680      1\n",
       "-23.000000      1\n",
       "-27.951891      1\n",
       "-6.151725       1\n",
       " 123.087950     1\n",
       "Name: target, Length: 968, dtype: int64"
      ]
     },
     "execution_count": 23,
     "metadata": {},
     "output_type": "execute_result"
    }
   ],
   "source": [
    "df[\"target\"].value_counts()"
   ]
  },
  {
   "cell_type": "code",
   "execution_count": 25,
   "id": "f41ebce1",
   "metadata": {},
   "outputs": [
    {
     "data": {
      "text/plain": [
       "0"
      ]
     },
     "execution_count": 25,
     "metadata": {},
     "output_type": "execute_result"
    }
   ],
   "source": [
    "df[\"input\"].isna().sum()"
   ]
  },
  {
   "cell_type": "code",
   "execution_count": 26,
   "id": "bfd41d34",
   "metadata": {},
   "outputs": [
    {
     "data": {
      "text/plain": [
       "0"
      ]
     },
     "execution_count": 26,
     "metadata": {},
     "output_type": "execute_result"
    }
   ],
   "source": [
    "df[\"target\"].isna().sum()"
   ]
  },
  {
   "cell_type": "code",
   "execution_count": 27,
   "id": "4f187861",
   "metadata": {},
   "outputs": [
    {
     "data": {
      "text/plain": [
       "6.899714180454869"
      ]
     },
     "execution_count": 27,
     "metadata": {},
     "output_type": "execute_result"
    }
   ],
   "source": [
    "df[\"input\"].mean()"
   ]
  },
  {
   "cell_type": "code",
   "execution_count": 29,
   "id": "0c50b301",
   "metadata": {},
   "outputs": [
    {
     "data": {
      "text/plain": [
       "-125.3666687"
      ]
     },
     "execution_count": 29,
     "metadata": {},
     "output_type": "execute_result"
    }
   ],
   "source": [
    "df[\"input\"].mode()[0]"
   ]
  },
  {
   "cell_type": "code",
   "execution_count": 30,
   "id": "efc555e2",
   "metadata": {},
   "outputs": [
    {
     "data": {
      "text/plain": [
       "15.739103114999999"
      ]
     },
     "execution_count": 30,
     "metadata": {},
     "output_type": "execute_result"
    }
   ],
   "source": [
    "df[\"input\"].median()"
   ]
  },
  {
   "cell_type": "code",
   "execution_count": 85,
   "id": "b7236379",
   "metadata": {},
   "outputs": [
    {
     "name": "stdout",
     "output_type": "stream",
     "text": [
      "Variance is using built-in-function:  6292.307993639906\n",
      "Stranderd daviation using in build function is:  79.32406944704681\n"
     ]
    }
   ],
   "source": [
    "col=df[\"input\"]\n",
    "l=[]\n",
    "for i in col:\n",
    "    l.append(i)\n",
    "print(\"Variance is using built-in-function: \",statistics.variance(l))\n",
    "print(\"Stranderd daviation using in build function is: \",statistics.stdev(l))"
   ]
  },
  {
   "cell_type": "code",
   "execution_count": 86,
   "id": "f1308e54",
   "metadata": {},
   "outputs": [
    {
     "name": "stdout",
     "output_type": "stream",
     "text": [
      "q1= -53.3666687\n",
      "q3= 76.19390685\n",
      "IQR= 129.56057555\n"
     ]
    }
   ],
   "source": [
    "l.sort()\n",
    "q1=np.percentile(l,25)\n",
    "print(\"q1=\",q1)\n",
    "q3=np.percentile(l,75)\n",
    "print(\"q3=\",q3)\n",
    "iqr1=q3-q1\n",
    "print(\"IQR=\",iqr1)"
   ]
  },
  {
   "cell_type": "code",
   "execution_count": 31,
   "id": "f20d98da",
   "metadata": {},
   "outputs": [
    {
     "data": {
      "text/plain": [
       "-26.09331772561168"
      ]
     },
     "execution_count": 31,
     "metadata": {},
     "output_type": "execute_result"
    }
   ],
   "source": [
    "df[\"target\"].mean()"
   ]
  },
  {
   "cell_type": "code",
   "execution_count": 32,
   "id": "9e1b36bd",
   "metadata": {},
   "outputs": [
    {
     "data": {
      "text/plain": [
       "-95.0"
      ]
     },
     "execution_count": 32,
     "metadata": {},
     "output_type": "execute_result"
    }
   ],
   "source": [
    "df[\"target\"].mode()[0]"
   ]
  },
  {
   "cell_type": "code",
   "execution_count": 33,
   "id": "7c17896b",
   "metadata": {},
   "outputs": [
    {
     "data": {
      "text/plain": [
       "-46.036318765000004"
      ]
     },
     "execution_count": 33,
     "metadata": {},
     "output_type": "execute_result"
    }
   ],
   "source": [
    "df[\"target\"].median()"
   ]
  },
  {
   "cell_type": "code",
   "execution_count": 87,
   "id": "5e49d048",
   "metadata": {},
   "outputs": [
    {
     "name": "stdout",
     "output_type": "stream",
     "text": [
      "Variance is using built-in-function:  4865.896797611318\n",
      "Stranderd daviation using in build function is:  69.7559803716593\n"
     ]
    }
   ],
   "source": [
    "col=df[\"target\"]\n",
    "l1=[]\n",
    "for i in col:\n",
    "    l1.append(i)\n",
    "print(\"Variance is using built-in-function: \",statistics.variance(l1))\n",
    "print(\"Stranderd daviation using in build function is: \",statistics.stdev(l1))"
   ]
  },
  {
   "cell_type": "code",
   "execution_count": 88,
   "id": "6a665094",
   "metadata": {},
   "outputs": [
    {
     "name": "stdout",
     "output_type": "stream",
     "text": [
      "q1= -76.99429755\n",
      "q3= 7.598959891\n",
      "IQR= 84.59325744099999\n"
     ]
    }
   ],
   "source": [
    "l1.sort()\n",
    "q1=np.percentile(l1,25)\n",
    "print(\"q1=\",q1)\n",
    "q3=np.percentile(l1,75)\n",
    "print(\"q3=\",q3)\n",
    "iqr1=q3-q1\n",
    "print(\"IQR=\",iqr1)"
   ]
  },
  {
   "cell_type": "code",
   "execution_count": 41,
   "id": "7768d06f",
   "metadata": {},
   "outputs": [
    {
     "data": {
      "text/html": [
       "<div>\n",
       "<style scoped>\n",
       "    .dataframe tbody tr th:only-of-type {\n",
       "        vertical-align: middle;\n",
       "    }\n",
       "\n",
       "    .dataframe tbody tr th {\n",
       "        vertical-align: top;\n",
       "    }\n",
       "\n",
       "    .dataframe thead th {\n",
       "        text-align: right;\n",
       "    }\n",
       "</style>\n",
       "<table border=\"1\" class=\"dataframe\">\n",
       "  <thead>\n",
       "    <tr style=\"text-align: right;\">\n",
       "      <th></th>\n",
       "      <th>input</th>\n",
       "      <th>target</th>\n",
       "    </tr>\n",
       "  </thead>\n",
       "  <tbody>\n",
       "    <tr>\n",
       "      <th>input</th>\n",
       "      <td>1.000000</td>\n",
       "      <td>0.454607</td>\n",
       "    </tr>\n",
       "    <tr>\n",
       "      <th>target</th>\n",
       "      <td>0.454607</td>\n",
       "      <td>1.000000</td>\n",
       "    </tr>\n",
       "  </tbody>\n",
       "</table>\n",
       "</div>"
      ],
      "text/plain": [
       "           input    target\n",
       "input   1.000000  0.454607\n",
       "target  0.454607  1.000000"
      ]
     },
     "execution_count": 41,
     "metadata": {},
     "output_type": "execute_result"
    }
   ],
   "source": [
    "df.corr()"
   ]
  },
  {
   "cell_type": "code",
   "execution_count": 67,
   "id": "7c390879",
   "metadata": {},
   "outputs": [
    {
     "data": {
      "text/plain": [
       "input    -0.269522\n",
       "target    0.909210\n",
       "dtype: float64"
      ]
     },
     "execution_count": 67,
     "metadata": {},
     "output_type": "execute_result"
    }
   ],
   "source": [
    "df.skew()"
   ]
  },
  {
   "cell_type": "code",
   "execution_count": 80,
   "id": "af315392",
   "metadata": {},
   "outputs": [
    {
     "data": {
      "text/html": [
       "<div>\n",
       "<style scoped>\n",
       "    .dataframe tbody tr th:only-of-type {\n",
       "        vertical-align: middle;\n",
       "    }\n",
       "\n",
       "    .dataframe tbody tr th {\n",
       "        vertical-align: top;\n",
       "    }\n",
       "\n",
       "    .dataframe thead th {\n",
       "        text-align: right;\n",
       "    }\n",
       "</style>\n",
       "<table border=\"1\" class=\"dataframe\">\n",
       "  <thead>\n",
       "    <tr style=\"text-align: right;\">\n",
       "      <th></th>\n",
       "      <th>input</th>\n",
       "      <th>target</th>\n",
       "    </tr>\n",
       "  </thead>\n",
       "  <tbody>\n",
       "    <tr>\n",
       "      <th>input</th>\n",
       "      <td>6292.307994</td>\n",
       "      <td>2515.491940</td>\n",
       "    </tr>\n",
       "    <tr>\n",
       "      <th>target</th>\n",
       "      <td>2515.491940</td>\n",
       "      <td>4865.896798</td>\n",
       "    </tr>\n",
       "  </tbody>\n",
       "</table>\n",
       "</div>"
      ],
      "text/plain": [
       "              input       target\n",
       "input   6292.307994  2515.491940\n",
       "target  2515.491940  4865.896798"
      ]
     },
     "execution_count": 80,
     "metadata": {},
     "output_type": "execute_result"
    }
   ],
   "source": [
    "df.cov()"
   ]
  },
  {
   "cell_type": "code",
   "execution_count": 42,
   "id": "20cf65b3",
   "metadata": {},
   "outputs": [
    {
     "data": {
      "text/plain": [
       "134.6057752"
      ]
     },
     "execution_count": 42,
     "metadata": {},
     "output_type": "execute_result"
    }
   ],
   "source": [
    "df[\"input\"].max()"
   ]
  },
  {
   "cell_type": "code",
   "execution_count": 43,
   "id": "15b6319e",
   "metadata": {},
   "outputs": [
    {
     "data": {
      "text/plain": [
       "-134.9628386"
      ]
     },
     "execution_count": 43,
     "metadata": {},
     "output_type": "execute_result"
    }
   ],
   "source": [
    "df[\"input\"].min()"
   ]
  },
  {
   "cell_type": "code",
   "execution_count": 44,
   "id": "ee2e6125",
   "metadata": {},
   "outputs": [
    {
     "data": {
      "text/plain": [
       "134.4254952"
      ]
     },
     "execution_count": 44,
     "metadata": {},
     "output_type": "execute_result"
    }
   ],
   "source": [
    "df[\"target\"].max()"
   ]
  },
  {
   "cell_type": "code",
   "execution_count": 45,
   "id": "61c3c620",
   "metadata": {},
   "outputs": [
    {
     "data": {
      "text/plain": [
       "-132.422167"
      ]
     },
     "execution_count": 45,
     "metadata": {},
     "output_type": "execute_result"
    }
   ],
   "source": [
    "df[\"target\"].min()"
   ]
  },
  {
   "cell_type": "code",
   "execution_count": 47,
   "id": "47d2d134",
   "metadata": {},
   "outputs": [
    {
     "data": {
      "text/plain": [
       "<AxesSubplot:xlabel='input'>"
      ]
     },
     "execution_count": 47,
     "metadata": {},
     "output_type": "execute_result"
    },
    {
     "data": {
      "image/png": "[encoded data removed]",
      "text/plain": [
       "<Figure size 432x288 with 1 Axes>"
      ]
     },
     "metadata": {},
     "output_type": "display_data"
    }
   ],
   "source": [
    "sns.set_style('whitegrid')\n",
    "sns.distplot(df['input'], kde = False, color ='red', bins = 30)"
   ]
  },
  {
   "cell_type": "code",
   "execution_count": null,
   "id": "d4d1a321",
   "metadata": {},
   "outputs": [],
   "source": []
  },
  {
   "cell_type": "code",
   "execution_count": null,
   "id": "c18821da",
   "metadata": {},
   "outputs": [],
   "source": []
  },
  {
   "cell_type": "code",
   "execution_count": 48,
   "id": "97904b83",
   "metadata": {},
   "outputs": [
    {
     "data": {
      "text/plain": [
       "<AxesSubplot:xlabel='target'>"
      ]
     },
     "execution_count": 48,
     "metadata": {},
     "output_type": "execute_result"
    },
    {
     "data": {
      "image/png": "[encoded data removed]",
      "text/plain": [
       "<Figure size 432x288 with 1 Axes>"
      ]
     },
     "metadata": {},
     "output_type": "display_data"
    }
   ],
   "source": [
    "sns.set_style('whitegrid')\n",
    "sns.distplot(df['target'], kde = False, color ='red', bins = 30)"
   ]
  },
  {
   "cell_type": "code",
   "execution_count": 50,
   "id": "985504c9",
   "metadata": {},
   "outputs": [
    {
     "data": {
      "text/plain": [
       "<seaborn.axisgrid.PairGrid at 0x27e559db550>"
      ]
     },
     "execution_count": 50,
     "metadata": {},
     "output_type": "execute_result"
    },
    {
     "data": {
      "image/png": "[encoded data removed]",
      "text/plain": [
       "<Figure size 360x360 with 6 Axes>"
      ]
     },
     "metadata": {},
     "output_type": "display_data"
    }
   ],
   "source": [
    "sns.pairplot(df, palette ='coolwarm')"
   ]
  },
  {
   "cell_type": "code",
   "execution_count": 52,
   "id": "9389978f",
   "metadata": {},
   "outputs": [
    {
     "data": {
      "image/png": "[encoded data removed]",
      "text/plain": [
       "<Figure size 432x288 with 1 Axes>"
      ]
     },
     "metadata": {},
     "output_type": "display_data"
    }
   ],
   "source": [
    "plt.hist(df['input'], rwidth=0.8, color='blue')\n",
    "plt.title(\"Histogram For Input Columns\")\n",
    "plt.show()"
   ]
  },
  {
   "cell_type": "code",
   "execution_count": 54,
   "id": "bedead62",
   "metadata": {},
   "outputs": [
    {
     "data": {
      "image/png": "[encoded data removed]",
      "text/plain": [
       "<Figure size 432x288 with 1 Axes>"
      ]
     },
     "metadata": {},
     "output_type": "display_data"
    }
   ],
   "source": [
    "plt.hist(df['target'], rwidth=0.8, color='green')\n",
    "plt.title(\"Histogram For Target Columns\")\n",
    "plt.show()"
   ]
  },
  {
   "cell_type": "code",
   "execution_count": 57,
   "id": "47e7a6ba",
   "metadata": {},
   "outputs": [
    {
     "data": {
      "image/png": "[encoded data removed]",
      "text/plain": [
       "<Figure size 432x288 with 1 Axes>"
      ]
     },
     "metadata": {},
     "output_type": "display_data"
    }
   ],
   "source": [
    "plt.plot(df['input'],color='blue')\n",
    "plt.title(\"Line chart Blue Columns\")\n",
    "plt.show()"
   ]
  },
  {
   "cell_type": "code",
   "execution_count": 56,
   "id": "a7af050e",
   "metadata": {},
   "outputs": [
    {
     "data": {
      "image/png": "[encoded data removed]",
      "text/plain": [
       "<Figure size 432x288 with 1 Axes>"
      ]
     },
     "metadata": {},
     "output_type": "display_data"
    }
   ],
   "source": [
    "plt.plot(df['target'],color='green')\n",
    "plt.title(\"Line chart Target Columns\")\n",
    "plt.show()"
   ]
  },
  {
   "cell_type": "code",
   "execution_count": 59,
   "id": "7108d0f9",
   "metadata": {},
   "outputs": [
    {
     "data": {
      "image/png": "[encoded data removed]",
      "text/plain": [
       "<Figure size 432x288 with 1 Axes>"
      ]
     },
     "metadata": {},
     "output_type": "display_data"
    }
   ],
   "source": [
    "x=np.array(df[\"input\"])\n",
    "y=np.array(df[\"target\"])\n",
    "plt.title(\"Scatter plot for Input and Target Columns\")\n",
    "plt.scatter(x,y)\n",
    "plt.show()"
   ]
  },
  {
   "cell_type": "code",
   "execution_count": 63,
   "id": "ca2373be",
   "metadata": {},
   "outputs": [
    {
     "data": {
      "text/plain": [
       "<AxesSubplot:>"
      ]
     },
     "execution_count": 63,
     "metadata": {},
     "output_type": "execute_result"
    },
    {
     "data": {
      "image/png": "[encoded data removed]",
      "text/plain": [
       "<Figure size 432x288 with 1 Axes>"
      ]
     },
     "metadata": {},
     "output_type": "display_data"
    }
   ],
   "source": [
    "df.boxplot( column =['input'], grid = False)"
   ]
  },
  {
   "cell_type": "code",
   "execution_count": 64,
   "id": "e069c8eb",
   "metadata": {},
   "outputs": [
    {
     "data": {
      "text/plain": [
       "<AxesSubplot:>"
      ]
     },
     "execution_count": 64,
     "metadata": {},
     "output_type": "execute_result"
    },
    {
     "data": {
      "image/png": "[encoded data removed]",
      "text/plain": [
       "<Figure size 432x288 with 1 Axes>"
      ]
     },
     "metadata": {},
     "output_type": "display_data"
    }
   ],
   "source": [
    "df.boxplot( column =['target'], grid = False)"
   ]
  },
  {
   "cell_type": "code",
   "execution_count": 72,
   "id": "5e025b87",
   "metadata": {},
   "outputs": [
    {
     "data": {
      "text/plain": [
       "LinearRegression()"
      ]
     },
     "execution_count": 72,
     "metadata": {},
     "output_type": "execute_result"
    }
   ],
   "source": [
    "input=np.asarray(df[[\"input\"]])\n",
    "target=np.asarray(df[\"target\"])\n",
    "x_train,x_test,y_train,y_test=train_test_split(input,target,test_size=0.3,random_state=0)\n",
    "r2 = LinearRegression()\n",
    "r2.fit(x_train, y_train)"
   ]
  },
  {
   "cell_type": "code",
   "execution_count": 77,
   "id": "2b7c9c8e",
   "metadata": {},
   "outputs": [
    {
     "data": {
      "text/plain": [
       "array([[  38.76096865],\n",
       "       [  36.34061907],\n",
       "       [-124.3666687 ],\n",
       "       [ 110.6333313 ],\n",
       "       [ -60.79869898],\n",
       "       [-112.3666687 ],\n",
       "       [-120.3666687 ],\n",
       "       [   7.22555296],\n",
       "       [  96.6333313 ],\n",
       "       [  96.90173948],\n",
       "       [  60.14399401],\n",
       "       [-133.1302957 ],\n",
       "       [  12.6333313 ],\n",
       "       [   6.2329617 ],\n",
       "       [ -24.50385739],\n",
       "       [ -23.5597799 ],\n",
       "       [ -87.0241036 ],\n",
       "       [  31.5300926 ],\n",
       "       [  37.69257656],\n",
       "       [ -14.43459137],\n",
       "       [   2.6333313 ],\n",
       "       [ 117.5945747 ],\n",
       "       [  38.33481048],\n",
       "       [  24.60094267],\n",
       "       [ 108.6333313 ],\n",
       "       [  82.84174354],\n",
       "       [  70.61621992],\n",
       "       [-125.3666687 ],\n",
       "       [-133.8181748 ],\n",
       "       [  30.92564812],\n",
       "       [-112.0184963 ],\n",
       "       [ 113.9585976 ],\n",
       "       [-115.3666687 ],\n",
       "       [  -8.46092297],\n",
       "       [-112.2579067 ],\n",
       "       [  79.91468981],\n",
       "       [  84.23792784],\n",
       "       [  46.31618757],\n",
       "       [ -19.3666687 ],\n",
       "       [ 106.9245151 ],\n",
       "       [ -28.3666687 ],\n",
       "       [ 115.2538998 ],\n",
       "       [-111.5153684 ],\n",
       "       [ -18.18428688],\n",
       "       [ -49.49748501],\n",
       "       [  94.28697677],\n",
       "       [  22.52866332],\n",
       "       [ -15.74061735],\n",
       "       [ -19.00663561],\n",
       "       [-129.3666687 ],\n",
       "       [ -39.21226144],\n",
       "       [ -35.3666687 ],\n",
       "       [ 124.4528335 ],\n",
       "       [  64.99073331],\n",
       "       [   2.13120679],\n",
       "       [  24.71599395],\n",
       "       [  73.6333313 ],\n",
       "       [ -17.57248795],\n",
       "       [  92.87962696],\n",
       "       [ 108.4136656 ],\n",
       "       [  63.24983624],\n",
       "       [  76.65852087],\n",
       "       [  86.2740089 ],\n",
       "       [  77.6333313 ],\n",
       "       [-125.0856202 ],\n",
       "       [ -71.3666687 ],\n",
       "       [ -26.3666687 ],\n",
       "       [ -38.35400437],\n",
       "       [-130.3666687 ],\n",
       "       [ -91.04201528],\n",
       "       [  86.6333313 ],\n",
       "       [ 103.6168168 ],\n",
       "       [  96.08331355],\n",
       "       [  -7.34400993],\n",
       "       [ 128.0365709 ],\n",
       "       [-119.3666687 ],\n",
       "       [ -27.8216707 ],\n",
       "       [  80.6333313 ],\n",
       "       [  27.60332634],\n",
       "       [   6.10534997],\n",
       "       [ 134.4631809 ],\n",
       "       [  -4.2808011 ],\n",
       "       [  99.6333313 ],\n",
       "       [ 112.6764372 ],\n",
       "       [ 125.2329353 ],\n",
       "       [  29.09145773],\n",
       "       [-123.0476267 ],\n",
       "       [  10.38221385],\n",
       "       [ 119.2002417 ],\n",
       "       [  93.6333313 ],\n",
       "       [  63.6225441 ],\n",
       "       [ 100.6333313 ],\n",
       "       [-113.2282255 ],\n",
       "       [ -22.74925523],\n",
       "       [ -81.3666687 ],\n",
       "       [  14.6333313 ],\n",
       "       [  98.99663552],\n",
       "       [ -31.4543411 ],\n",
       "       [-111.2536771 ],\n",
       "       [-134.917019  ],\n",
       "       [ -27.69218859],\n",
       "       [  -6.99521243],\n",
       "       [-121.2046658 ],\n",
       "       [ 112.6333313 ],\n",
       "       [ -32.82816695],\n",
       "       [ 105.7058912 ],\n",
       "       [ 104.6333313 ],\n",
       "       [ -17.3666687 ],\n",
       "       [  74.41298046],\n",
       "       [-134.9628386 ],\n",
       "       [  40.95082985],\n",
       "       [ -29.79892566],\n",
       "       [ -52.82573057],\n",
       "       [   5.6333313 ],\n",
       "       [ -27.49020375],\n",
       "       [  64.64426165],\n",
       "       [ -28.14901322],\n",
       "       [  80.6333313 ],\n",
       "       [   8.06865737],\n",
       "       [ 116.614886  ],\n",
       "       [  73.6333313 ],\n",
       "       [ 124.6333313 ],\n",
       "       [  55.1718735 ],\n",
       "       [-103.2930966 ],\n",
       "       [  39.65771677],\n",
       "       [ 120.6333313 ],\n",
       "       [  15.73778184],\n",
       "       [ 123.2706712 ],\n",
       "       [ -96.69369402],\n",
       "       [  98.20922281],\n",
       "       [ 122.0154499 ],\n",
       "       [-123.3666687 ],\n",
       "       [ 128.0107858 ],\n",
       "       [ -37.99251599],\n",
       "       [ -63.38650606],\n",
       "       [  82.6333313 ],\n",
       "       [-121.6535425 ],\n",
       "       [  15.04195785],\n",
       "       [-122.6576764 ],\n",
       "       [  36.6257103 ],\n",
       "       [  11.6333313 ],\n",
       "       [  81.58129222],\n",
       "       [ -29.80773841],\n",
       "       [  36.71914025],\n",
       "       [ -92.33092549],\n",
       "       [ -21.89561574],\n",
       "       [ -13.74639792],\n",
       "       [  -7.54360389],\n",
       "       [ 114.2310589 ],\n",
       "       [-115.3666687 ],\n",
       "       [  83.09733587],\n",
       "       [  77.44915486],\n",
       "       [  21.6333313 ],\n",
       "       [  34.01840062],\n",
       "       [   0.64118964],\n",
       "       [  18.74663085],\n",
       "       [ -69.3666687 ],\n",
       "       [ -11.76276481],\n",
       "       [ 120.6333313 ],\n",
       "       [-130.2622522 ],\n",
       "       [ -33.48191305],\n",
       "       [  50.60810202],\n",
       "       [ -34.82187374],\n",
       "       [-132.3592378 ],\n",
       "       [ -82.99185534],\n",
       "       [  87.36784248],\n",
       "       [ 122.8318272 ],\n",
       "       [ -85.3666687 ],\n",
       "       [ -43.3666687 ],\n",
       "       [  42.6333313 ],\n",
       "       [ -89.3666687 ],\n",
       "       [  72.04171715],\n",
       "       [ 101.2707346 ],\n",
       "       [ 112.5669758 ],\n",
       "       [-125.3666687 ],\n",
       "       [-112.6760028 ],\n",
       "       [  40.6333313 ],\n",
       "       [  10.60693492],\n",
       "       [  18.6333313 ],\n",
       "       [  20.6333313 ],\n",
       "       [ 109.5425747 ],\n",
       "       [-130.4357473 ],\n",
       "       [-110.6765727 ],\n",
       "       [  78.32298659],\n",
       "       [ -14.88210966],\n",
       "       [  76.25316671],\n",
       "       [ 130.215865  ],\n",
       "       [  36.6333313 ],\n",
       "       [  17.6333313 ],\n",
       "       [  -0.94683525],\n",
       "       [  62.25279907],\n",
       "       [  79.80685918],\n",
       "       [-115.5637388 ],\n",
       "       [  90.47234273],\n",
       "       [-119.5241123 ],\n",
       "       [-120.6059511 ],\n",
       "       [ -38.25744811],\n",
       "       [  18.27471569],\n",
       "       [ -84.28352954],\n",
       "       [  94.6333313 ],\n",
       "       [  23.6333313 ],\n",
       "       [  65.6333313 ],\n",
       "       [   4.08095959],\n",
       "       [ 132.9749039 ],\n",
       "       [  32.71991682],\n",
       "       [  85.55976328],\n",
       "       [  90.57672233],\n",
       "       [  -6.53276464],\n",
       "       [  29.66920056],\n",
       "       [ -62.3666687 ],\n",
       "       [  35.31062821],\n",
       "       [  51.32374166],\n",
       "       [-101.1645293 ],\n",
       "       [  -4.94489612],\n",
       "       [  41.09625964],\n",
       "       [  10.69926433],\n",
       "       [-120.4704177 ],\n",
       "       [ 124.0215706 ],\n",
       "       [  60.45821799],\n",
       "       [ 111.6333313 ],\n",
       "       [  10.86377566],\n",
       "       [  46.05831377],\n",
       "       [  58.9160873 ],\n",
       "       [  25.5671738 ],\n",
       "       [  -7.3666687 ],\n",
       "       [  19.6333313 ],\n",
       "       [  99.53084675],\n",
       "       [ 100.4674643 ],\n",
       "       [ -83.94082084],\n",
       "       [  -4.68829411],\n",
       "       [ 111.921765  ],\n",
       "       [ 117.7568023 ],\n",
       "       [  97.6333313 ],\n",
       "       [ -27.47073653],\n",
       "       [ 112.1657774 ],\n",
       "       [-103.3666687 ],\n",
       "       [ 112.6333313 ],\n",
       "       [  81.87561384],\n",
       "       [  46.73433139],\n",
       "       [ -82.13480586],\n",
       "       [ 113.6333313 ],\n",
       "       [ -15.3666687 ],\n",
       "       [ -28.3666687 ],\n",
       "       [  66.30629409],\n",
       "       [ -30.68203446],\n",
       "       [  19.28746973],\n",
       "       [  -1.36723548],\n",
       "       [   5.74923691],\n",
       "       [  86.61172694],\n",
       "       [  46.6333313 ],\n",
       "       [-125.9058982 ],\n",
       "       [  25.41018353],\n",
       "       [  46.6333313 ],\n",
       "       [ -31.78880733],\n",
       "       [ 116.6333313 ],\n",
       "       [  75.24923123],\n",
       "       [-117.3666687 ],\n",
       "       [-129.5656239 ],\n",
       "       [  98.19870569],\n",
       "       [   5.77689002],\n",
       "       [-105.3216787 ],\n",
       "       [  27.6333313 ],\n",
       "       [-110.3442214 ],\n",
       "       [ -69.32470996],\n",
       "       [  59.24870365],\n",
       "       [ 104.7722544 ],\n",
       "       [-120.3666687 ],\n",
       "       [   8.6333313 ],\n",
       "       [  49.25775686],\n",
       "       [ 133.0240344 ],\n",
       "       [  39.6333313 ],\n",
       "       [ 112.138167  ],\n",
       "       [-118.6323221 ],\n",
       "       [ -35.81292848],\n",
       "       [  28.97650765],\n",
       "       [  73.48191198],\n",
       "       [ -63.3666687 ],\n",
       "       [ -37.49990558],\n",
       "       [  97.6333313 ],\n",
       "       [ -15.3666687 ],\n",
       "       [-113.9631332 ],\n",
       "       [ -15.70152764],\n",
       "       [-108.6044447 ],\n",
       "       [  96.46005449],\n",
       "       [   3.62746198],\n",
       "       [  76.44048704],\n",
       "       [  75.45194237],\n",
       "       [ -15.3666687 ],\n",
       "       [  71.90404034],\n",
       "       [ -23.3666687 ],\n",
       "       [  63.86011115],\n",
       "       [  45.89987237],\n",
       "       [  -4.59918132],\n",
       "       [  55.39144421],\n",
       "       [  -4.88697559],\n",
       "       [ -16.89230218],\n",
       "       [  -0.82617142],\n",
       "       [ 102.4557181 ],\n",
       "       [ -32.59975281],\n",
       "       [   0.79142205],\n",
       "       [ -41.3666687 ],\n",
       "       [   8.17706617],\n",
       "       [  55.47528165],\n",
       "       [-126.0291139 ],\n",
       "       [ -59.38261425],\n",
       "       [ 116.194467  ],\n",
       "       [ -49.85239306],\n",
       "       [-120.8121797 ],\n",
       "       [-113.3363486 ],\n",
       "       [  27.55542371],\n",
       "       [ -47.92524922],\n",
       "       [   1.76925685],\n",
       "       [  41.11722671],\n",
       "       [-131.0213734 ],\n",
       "       [  51.6333313 ],\n",
       "       [  49.41916844],\n",
       "       [ 110.1766028 ],\n",
       "       [  56.59054351],\n",
       "       [ -50.89369773],\n",
       "       [  44.6333313 ],\n",
       "       [ 124.727894  ],\n",
       "       [-122.8894421 ],\n",
       "       [ -17.0239326 ],\n",
       "       [ -22.2303394 ],\n",
       "       [  85.24119004],\n",
       "       [  43.4239885 ],\n",
       "       [ 112.5890501 ],\n",
       "       [ 124.6410144 ],\n",
       "       [ -72.61050739],\n",
       "       [ -76.35324445],\n",
       "       [ -55.3666687 ],\n",
       "       [  24.42905623],\n",
       "       [-117.3666687 ]])"
      ]
     },
     "execution_count": 77,
     "metadata": {},
     "output_type": "execute_result"
    }
   ],
   "source": [
    "x_test"
   ]
  },
  {
   "cell_type": "code",
   "execution_count": 76,
   "id": "d4ff72a3",
   "metadata": {},
   "outputs": [
    {
     "data": {
      "text/plain": [
       "array([-13.80327096, -14.72784135, -76.1178166 ,  13.65187825,\n",
       "       -51.83493471, -71.53383218, -74.58982179, -25.8497588 ,\n",
       "         8.30389643,   8.406428  ,  -5.63498303, -79.46551073,\n",
       "       -23.7839945 , -26.22892737, -37.97035235, -37.60971598,\n",
       "       -61.85300522, -16.56545622, -14.21139535, -34.12390581,\n",
       "       -27.60398151,  16.31106419, -13.96606282, -19.21238249,\n",
       "        12.88788085,   3.03552781,  -1.63460634, -76.4998153 ,\n",
       "       -79.72827966, -16.79635322, -71.40083078,  14.92212566,\n",
       "       -72.67982829, -31.84197224, -71.49228524,   1.91739709,\n",
       "         3.5688684 , -10.91718714, -36.00795294,  12.23511528,\n",
       "       -39.44594126,  15.41692942, -71.20863657, -35.55628462,\n",
       "       -47.51788565,   7.40759204, -20.00399051, -34.62280604,\n",
       "       -35.87042077, -78.02781011, -43.5889436 , -42.11993217,\n",
       "        18.93091014,  -3.78353492, -27.79579242, -19.16843305,\n",
       "        -0.48207371, -35.32257823,   6.86998624,  12.80396883,\n",
       "        -4.44855534,   0.67354478,   4.34664872,   1.0459211 ,\n",
       "       -76.39245514, -55.87188542, -38.68194385, -43.26109051,\n",
       "       -78.40980881, -63.38784227,   4.48390941,  10.97157882,\n",
       "         8.09379036, -31.41531291,  20.29989318, -74.20782309,\n",
       "       -39.23775273,   2.1919172 , -18.06547583, -26.27767489,\n",
       "        22.75484985, -30.24517111,   9.44989253,  14.43234205,\n",
       "        19.22890802, -17.49701157, -75.61394427, -24.64391844,\n",
       "        16.9244269 ,   7.15790032,  -4.30618142,   9.83189123,\n",
       "       -71.86294576, -37.30009661, -59.69187244, -23.01999709,\n",
       "         9.20667557, -40.6254281 , -71.10867084, -80.14803671,\n",
       "       -39.18829073, -31.28207271, -74.9099356 ,  14.41587565,\n",
       "       -41.1502278 ,  11.76960253,  11.35988604, -35.24395554,\n",
       "        -0.18424874, -80.16553974, -12.96674682, -39.99306156,\n",
       "       -48.78927113, -26.45798541, -39.11113278,  -3.91588664,\n",
       "       -39.36279715,   2.1919172 , -25.52769401,  15.93682438,\n",
       "        -0.48207371,  18.99986007,  -7.53432661, -68.06773942,\n",
       "       -13.46071434,  17.47186526, -22.59809842,  18.47932568,\n",
       "       -65.54677621,   8.90588494,  17.99983277, -75.7358179 ,\n",
       "        20.2900433 , -43.12300242, -52.82347365,   2.95591461,\n",
       "       -75.08140591, -22.86390228, -75.46498376, -14.61893687,\n",
       "       -24.1659932 ,   2.55403704, -39.99642802, -14.58324675,\n",
       "       -63.88020429, -36.97400743, -33.8610168 , -31.49155754,\n",
       "        15.02620552, -72.67982829,   3.13316375,   0.97556594,\n",
       "       -20.34600618, -15.61492579, -28.36497704, -21.44872201,\n",
       "       -55.10788802, -33.10327153,  17.47186526, -78.36992184,\n",
       "       -41.39995796,  -9.27768139, -41.9118212 , -79.17096762,\n",
       "       -60.31269162,   4.76449173,  18.31168784, -61.21986724,\n",
       "       -45.17592178, -12.32403345, -62.74786205,  -1.09006824,\n",
       "        10.07537847,  14.39052794, -76.4998153 , -71.65199741,\n",
       "       -13.08803085, -24.55807528, -21.49200229, -20.72800488,\n",
       "        13.23521064, -78.43619674, -70.8882177 ,   1.30936853,\n",
       "       -34.29485721,   0.51870002,  21.13238069, -14.61602566,\n",
       "       -21.87400099, -28.97160048,  -4.82942224,   1.87620593,\n",
       "       -72.75510881,   5.95040679, -74.26796634, -74.68122736,\n",
       "       -43.22420615, -21.62899298, -60.80610949,   7.53989903,\n",
       "       -19.58200878,  -3.53806332, -27.05098938,  22.18632997,\n",
       "       -16.11094491,   4.07380782,   5.99027967, -31.10541826,\n",
       "       -17.27631456, -52.43389711, -15.12129652,  -9.00430798,\n",
       "       -67.25462948, -30.49885455, -12.91119283, -24.52280557,\n",
       "       -74.62945378,  18.76616828,  -5.51494988,  14.03387695,\n",
       "       -24.45996245, -11.0156946 ,  -6.1040418 , -18.84328346,\n",
       "       -31.42396853, -21.11000359,   9.41074357,   9.76853026,\n",
       "       -60.67519521, -30.40083291,  14.14405825,  16.37303492,\n",
       "         8.68589513, -39.10369633,  14.23727067, -68.09584387,\n",
       "        14.41587565,   2.66646752, -10.75745674, -59.98529983,\n",
       "        14.79787435, -34.47995814, -39.44594126,  -3.28099241,\n",
       "       -40.33040797, -21.24212226, -29.13219283, -26.41370961,\n",
       "         4.47565658, -10.79603865, -76.70580027, -18.90325354,\n",
       "       -10.79603865, -40.75319377,  15.94387046,   0.13519797,\n",
       "       -73.44382569, -78.10381074,   8.90186741, -26.40314616,\n",
       "       -68.84265515, -18.05401397, -70.76125994, -55.09185983,\n",
       "        -5.97698279,  11.41295448, -74.58982179, -25.3119893 ,\n",
       "        -9.79351149,  22.20509776, -13.47002956,  14.22672353,\n",
       "       -73.92730364, -42.29040282, -17.54092235,  -0.53991569,\n",
       "       -52.81589581, -42.93482589,   8.68589513, -34.47995814,\n",
       "       -72.14367955, -34.60787382, -70.0966675 ,   8.23770491,\n",
       "       -27.22422488,   0.59025614,   0.21263336, -34.47995814,\n",
       "        -1.14266061, -37.53594775,  -4.21543111, -11.076219  ,\n",
       "       -30.36679194,  -7.45045089, -30.47672898, -35.06274815,\n",
       "       -28.92550706,  10.52804063, -41.06297389, -28.30758845,\n",
       "       -44.41192438, -25.48628199,  -7.41842509, -76.75286851,\n",
       "       -51.29399218,  15.77622487, -47.65346006, -74.76000642,\n",
       "       -71.90424864, -18.08377457, -46.91729362, -27.93405683,\n",
       "       -12.90318344, -78.65990515,  -8.88604514,  -9.73185248,\n",
       "        13.47740856,  -6.99239651, -48.05123709, -11.56003605,\n",
       "        19.0359829 , -75.55351796, -35.1130308 , -37.10187143,\n",
       "         3.95211326, -12.02200343,  14.39896029,  19.002795  ,\n",
       "       -56.34703019, -57.77675088, -49.7599062 , -19.27804289,\n",
       "       -73.44382569])"
      ]
     },
     "execution_count": 76,
     "metadata": {},
     "output_type": "execute_result"
    }
   ],
   "source": [
    "r2.predict(x_test)"
   ]
  },
  {
   "cell_type": "code",
   "execution_count": 73,
   "id": "ad926e8d",
   "metadata": {},
   "outputs": [
    {
     "data": {
      "text/plain": [
       "array([0.3819987])"
      ]
     },
     "execution_count": 73,
     "metadata": {},
     "output_type": "execute_result"
    }
   ],
   "source": [
    "r2.coef_"
   ]
  },
  {
   "cell_type": "code",
   "execution_count": 74,
   "id": "8e0a8bf2",
   "metadata": {},
   "outputs": [
    {
     "data": {
      "text/plain": [
       "-28.609910648378563"
      ]
     },
     "execution_count": 74,
     "metadata": {},
     "output_type": "execute_result"
    }
   ],
   "source": [
    "r2.intercept_"
   ]
  },
  {
   "cell_type": "code",
   "execution_count": 79,
   "id": "d82d3474",
   "metadata": {},
   "outputs": [
    {
     "data": {
      "text/plain": [
       "0.22452779262141676"
      ]
     },
     "execution_count": 79,
     "metadata": {},
     "output_type": "execute_result"
    }
   ],
   "source": [
    "r2.score(x_test,y_test)"
   ]
  },
  {
   "cell_type": "code",
   "execution_count": 75,
   "id": "b6246a18",
   "metadata": {},
   "outputs": [
    {
     "data": {
      "text/plain": [
       "[<matplotlib.lines.Line2D at 0x27e57232910>]"
      ]
     },
     "execution_count": 75,
     "metadata": {},
     "output_type": "execute_result"
    },
    {
     "data": {
      "image/png": "[encoded data removed]",
      "text/plain": [
       "<Figure size 432x288 with 1 Axes>"
      ]
     },
     "metadata": {},
     "output_type": "display_data"
    }
   ],
   "source": [
    "line=r2.coef_*input+r2.intercept_\n",
    "plt.xlabel(\"Input\")\n",
    "plt.ylabel(\"Target\")\n",
    "plt.scatter(input,target,marker='*',color='blue')\n",
    "plt.plot(input,line,color=\"red\")"
   ]
  },
  {
   "cell_type": "code",
   "execution_count": null,
   "id": "58ae9c74",
   "metadata": {},
   "outputs": [],
   "source": []
  }
 ],
 "metadata": {
  "kernelspec": {
   "display_name": "Python 3 (ipykernel)",
   "language": "python",
   "name": "python3"
  },
  "language_info": {
   "codemirror_mode": {
    "name": "ipython",
    "version": 3
   },
   "file_extension": ".py",
   "mimetype": "text/x-python",
   "name": "python",
   "nbconvert_exporter": "python",
   "pygments_lexer": "ipython3",
   "version": "3.9.7"
  }
 },
 "nbformat": 4,
 "nbformat_minor": 5
}
